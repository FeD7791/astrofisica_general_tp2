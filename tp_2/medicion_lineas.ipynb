from astropy.io import fits
import matplotlib.pyplot as plt
import numpy as np

import astropy.units as u
from specutils import Spectrum1D
from specutils.analysis import equivalent_width
from specutils.spectra import SpectralRegion

# Parámetros iniciales
#fits_file = "legac_M7_157147_v3.0.fits"
#fits_file = "legac_M14_27741_v3.0.fits"
# fits_file = "legac_M16_41325_v3.0.fits"
#fits_file = "legac_M17_68830_v3.0.fits"
fits_file = "legac_M20_89284_v3.0.fits"

#z = 0.6602
#z = 0.7063
#z = 0.6739
#z = 0.668
z = 0.6643

FACTOR_CALIBRACION = 1e-19

# Leer archivo FITS
with fits.open(fits_file) as hdul:
    data = hdul[1].data
    espectro = data[0]  # índice 0: primer espectro
    longitud_de_onda_obs = espectro['WAVE']
    intensidad = espectro['FLUX'] * FACTOR_CALIBRACION

# Pasar a sistema de reposo
longitud_de_onda_rest = longitud_de_onda_obs / (1 + z)
spectrum_rest = Spectrum1D(spectral_axis=longitud_de_onda_rest * u.AA,
                           flux=intensidad * u.Unit("erg cm-2 s-1 Å-1"))

# Función para EW manual
def calcular_ew_manual(wave, flux, cont_prom):
    flux_norm = flux / cont_prom
    ew_manual = np.trapz(1 - flux_norm, wave)
    return ew_manual

# Función genérica para medir una línea
def medir_linea(nombre, lambda0, delta_linea=10, delta_cont=20):
    linea_min = lambda0 - delta_linea
    linea_max = lambda0 + delta_linea
    cont_izq_min = linea_min - delta_cont
    cont_izq_max = linea_min - 5
    cont_der_min = linea_max + 5
    cont_der_max = linea_max + delta_cont

    longitud = spectrum_rest.spectral_axis.value
    flujo = spectrum_rest.flux.value

    mask_linea = (longitud >= linea_min) & (longitud <= linea_max)
    mask_cont_izq = (longitud >= cont_izq_min) & (longitud <= cont_izq_max)
    mask_cont_der = (longitud >= cont_der_min) & (longitud <= cont_der_max)

    cont_izq = np.mean(flujo[mask_cont_izq])
    cont_der = np.mean(flujo[mask_cont_der])
    cont_prom = (cont_izq + cont_der) / 2

    flujo_linea = flujo[mask_linea] - cont_prom
    flujo_integrado = np.trapz(flujo_linea, longitud[mask_linea])
    ew_manual = calcular_ew_manual(longitud[mask_linea], flujo[mask_linea], cont_prom)

    region = SpectralRegion((lambda0 - delta_linea) * u.AA, (lambda0 + delta_linea) * u.AA)
    ew_specutils = equivalent_width(spectrum_rest, regions=region)

    print(f"--- {nombre} ({lambda0} Å) ---")
    print(f"Flujo integrado: {flujo_integrado:.3e} erg/cm²/s")
    print(f"EW (manual): {ew_manual:.2f} Å")
    # print(f"EW (specutils): {ew_specutils:.2f}\n")

    return longitud[mask_linea], flujo[mask_linea], cont_prom

# Mediciones
medir_linea("[O III] 5007", 5007)
medir_linea("Hβ 4861", 4861)

# Graficar espectro completo
plt.figure(figsize=(12, 6))
plt.plot(longitud_de_onda_rest, intensidad, label='Espectro Rest-Frame')
plt.xlabel("Longitud de onda (Å)")
plt.ylabel("Flujo (erg/cm²/s/Å)")
plt.title(f"Espectro Rest-Frame (z = {z})")
plt.grid()
plt.tight_layout()
plt.savefig("espectro_rest_frame.jpg", dpi=300)
plt.show()


# --- Gráfico zoom en [O III] 5007 ---
plt.figure(figsize=(8,5))

# Parámetros [O III] 5007
lambda0_oiii = 5007
delta_linea = 10
delta_cont = 20

longitud = spectrum_rest.spectral_axis.value
flujo = spectrum_rest.flux.value

zoom_min = lambda0_oiii - 40
zoom_max = lambda0_oiii + 40
mask_zoom = (longitud >= zoom_min) & (longitud <= zoom_max)

plt.plot(longitud[mask_zoom], flujo[mask_zoom], label="[O III] 5007")

plt.axvline(lambda0_oiii, color='red', linestyle='--', label='Centro 5007 Å')
plt.axvspan(lambda0_oiii - delta_linea, lambda0_oiii + delta_linea, color='gray', alpha=0.3, label='Región línea')
plt.axvspan(lambda0_oiii - delta_linea - delta_cont, lambda0_oiii - delta_linea - 5, color='blue', alpha=0.2, label='Continuo izquierdo')
plt.axvspan(lambda0_oiii + delta_linea + 5, lambda0_oiii + delta_linea + delta_cont, color='green', alpha=0.2, label='Continuo derecho')

plt.xlabel("Longitud de onda (Å)")
plt.ylabel("Flujo (erg/cm²/s/Å)")
plt.title("Zoom en línea [O III] 5007 Å")
plt.legend()
plt.grid()
plt.tight_layout()
plt.show()


# --- Gráfico zoom en Hβ 4861 ---
plt.figure(figsize=(8,5))

# Parámetros Hβ 4861
lambda0_hbeta = 4861

zoom_min = lambda0_hbeta - 40
zoom_max = lambda0_hbeta + 40
mask_zoom = (longitud >= zoom_min) & (longitud <= zoom_max)

plt.plot(longitud[mask_zoom], flujo[mask_zoom], label="Hβ 4861")

plt.axvline(lambda0_hbeta, color='red', linestyle='--', label='Centro 4861 Å')
plt.axvspan(lambda0_hbeta - delta_linea, lambda0_hbeta + delta_linea, color='gray', alpha=0.3, label='Región línea')
plt.axvspan(lambda0_hbeta - delta_linea - delta_cont, lambda0_hbeta - delta_linea - 5, color='blue', alpha=0.2, label='Continuo izquierdo')
plt.axvspan(lambda0_hbeta + delta_linea + 5, lambda0_hbeta + delta_linea + delta_cont, color='green', alpha=0.2, label='Continuo derecho')

plt.xlabel("Longitud de onda (Å)")
plt.ylabel("Flujo (erg/cm²/s/Å)")
plt.title("Zoom en línea Hβ 4861 Å")
plt.legend()
plt.grid()
plt.tight_layout()
plt.show()
